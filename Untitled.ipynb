{
 "cells": [
  {
   "cell_type": "code",
   "execution_count": null,
   "id": "53b174e5",
   "metadata": {},
   "outputs": [],
   "source": [
    "'a bc d z. c d a z. z x y'"
   ]
  },
  {
   "cell_type": "code",
   "execution_count": null,
   "id": "94300fb4",
   "metadata": {},
   "outputs": [],
   "source": [
    "#countvectorizer\n",
    "a = 1 + 1\n",
    "bc = 1\n",
    "d = 1 + 1\n",
    "z = 1 + 1\n",
    "c = 1"
   ]
  },
  {
   "cell_type": "code",
   "execution_count": null,
   "id": "16bd1331",
   "metadata": {},
   "outputs": [],
   "source": [
    "#fit()\n",
    "\n",
    "indexing\n",
    "\n",
    "#tranform \n",
    "\n"
   ]
  },
  {
   "cell_type": "code",
   "execution_count": null,
   "id": "fbe15ce6",
   "metadata": {},
   "outputs": [],
   "source": [
    "a = 5\n",
    "b = 4\n",
    "c = 3\n",
    "\n",
    "\n",
    "- \n",
    "\n",
    "Feeling GOOD "
   ]
  },
  {
   "cell_type": "code",
   "execution_count": null,
   "id": "2d02c258",
   "metadata": {},
   "outputs": [],
   "source": [
    "a = 5 b = 4\n",
    "c = 3\n",
    "\n"
   ]
  }
 ],
 "metadata": {
  "kernelspec": {
   "display_name": "Python 3 (ipykernel)",
   "language": "python",
   "name": "python3"
  },
  "language_info": {
   "codemirror_mode": {
    "name": "ipython",
    "version": 3
   },
   "file_extension": ".py",
   "mimetype": "text/x-python",
   "name": "python",
   "nbconvert_exporter": "python",
   "pygments_lexer": "ipython3",
   "version": "3.9.13"
  }
 },
 "nbformat": 4,
 "nbformat_minor": 5
}
